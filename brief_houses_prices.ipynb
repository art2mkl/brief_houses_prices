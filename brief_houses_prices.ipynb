{
 "cells": [
  {
   "cell_type": "markdown",
   "metadata": {},
   "source": [
    "---\n",
    "\n",
    "# Brief Houses Prices\n",
    "---\n",
    "\n",
    "![cars](https://simplonline-v3-prod.s3.eu-west-3.amazonaws.com/media/image/png/ffd16b55-4723-4db0-b3b3-807362b61946.png)\n",
    "\n",
    "---"
   ]
  },
  {
   "cell_type": "markdown",
   "metadata": {},
   "source": [
    "## Contexte du projet\n",
    "* Etape 1 : Recuperer la base de donnée train.csv\n",
    "* Etape 2 : Comprendre la signification de chaque colonne : https://www.kaggle.com/c/house-prices-advanced-regression-techniques/data\n",
    "* Etape 3 : Créer un notebook avec un titre et importer train.csv dans un dataframe\n",
    "* Etape 4 : Réaliser une analyse exploratoire (moyenne, ecart-type, mediane, identifier les valeurs manquantes, correlations, data visualisation) ==> Privilegier la qualité de l'analyse plutôt que la quantité de cellule executé.\n",
    "* Etape 5 : Faites une regression lineaire avec une feature. Choisir une feature qui n'a pas besoin d'être transformée).\n",
    "* Etape 6 : Faites une regression lineaire avec Stats model et interpreter les résultats.\n",
    "* Etape 7 : Faites une regression lineaire avec sklearn et interpreter les resultats : https://scikit-learn.org/stable/modules/generated/sklearn.linear_model.LinearRegression.html#sklearn.linear_model.LinearRegression\n",
    "* Etape 8 (Objectif) : Réaliser une prediction avec sklearn. Exemple : Prédire le prix d'un logement qui fait 58m2.\n",
    "* Etape 9 Optionnel level 1 : Separer les données d'entrainement et données de test (test.csv) : https://scikit-learn.org/stable/modules/generated/sklearn.model_selection.train_test_split.html\n",
    "* Etape 10 : Revenir à l'étape 7 et faire un .fit(X_train) avec les données d'entrainement et un .score(X_test) sur les données de test. (cf sklearn).\n",
    "* Etape 11 : Comparer la difference de score entre l'entrainement avec de la fuite de donnée ( .fit(X_train, et un .score(y_train) ) et sans fuite de donnée (.fit(X_train) .score(y_test) interpreter.\n",
    "* Etape 12 Optionnel Level 2 : Ajouter une feature supplémentaire (qui vous semble pertinante) à votre model pour essayer d'ameliorer les performances de votre model. Vous aurez probablement besoin d'utiliser cet outil de sklearn par exemple : https://scikit-learn.org/stable/modules/generated/sklearn.preprocessing.OneHotEncoder.html\n",
    "* Etape 13 Optionnel Level 3: Structurer votre code avec par exemple :\n",
    "    * Un fichier data.py > avec une methode .get_data()\n",
    "    * Un fichier model.py > avec une methode .train()\n",
    "    * Un fichier preprocessing.py > avec une methode .cleaning() et .preprocessing_'colum_name'()"
   ]
  },
  {
   "cell_type": "code",
   "execution_count": 1,
   "metadata": {
    "ExecuteTime": {
     "end_time": "2021-05-20T16:00:10.434067Z",
     "start_time": "2021-05-20T16:00:03.932900Z"
    }
   },
   "outputs": [],
   "source": [
    "from model import Model\n",
    "from get_data import GetData"
   ]
  },
  {
   "cell_type": "code",
   "execution_count": 2,
   "metadata": {
    "ExecuteTime": {
     "end_time": "2021-05-20T16:00:10.583672Z",
     "start_time": "2021-05-20T16:00:10.440269Z"
    }
   },
   "outputs": [],
   "source": [
    "data = GetData('train.csv')\n",
    "df = data.df"
   ]
  },
  {
   "cell_type": "code",
   "execution_count": 3,
   "metadata": {
    "ExecuteTime": {
     "end_time": "2021-05-20T16:00:10.773908Z",
     "start_time": "2021-05-20T16:00:10.601449Z"
    }
   },
   "outputs": [
    {
     "name": "stdout",
     "output_type": "stream",
     "text": [
      "\n",
      "        Longueur du dataset : 1460 enregistrements\n",
      "        Nombre de colonnes : 81\n",
      "        Nombre total de celulles non nulles : 111295\n",
      "        Nombre total de cellules nulles : 6965, soit 5.89 %\n",
      "        \n"
     ]
    },
    {
     "data": {
      "text/html": [
       "<div>\n",
       "<style scoped>\n",
       "    .dataframe tbody tr th:only-of-type {\n",
       "        vertical-align: middle;\n",
       "    }\n",
       "\n",
       "    .dataframe tbody tr th {\n",
       "        vertical-align: top;\n",
       "    }\n",
       "\n",
       "    .dataframe thead th {\n",
       "        text-align: right;\n",
       "    }\n",
       "</style>\n",
       "<table border=\"1\" class=\"dataframe\">\n",
       "  <thead>\n",
       "    <tr style=\"text-align: right;\">\n",
       "      <th></th>\n",
       "      <th>colonne</th>\n",
       "      <th>type</th>\n",
       "      <th>Echantillon</th>\n",
       "      <th>% de valeurs nulles</th>\n",
       "    </tr>\n",
       "  </thead>\n",
       "  <tbody>\n",
       "    <tr>\n",
       "      <th>Id</th>\n",
       "      <td>Id</td>\n",
       "      <td>int64</td>\n",
       "      <td>[1, 2, 3, 4, 5]</td>\n",
       "      <td>0.00</td>\n",
       "    </tr>\n",
       "    <tr>\n",
       "      <th>MSSubClass</th>\n",
       "      <td>MSSubClass</td>\n",
       "      <td>int64</td>\n",
       "      <td>[60, 20, 60, 70, 60]</td>\n",
       "      <td>0.00</td>\n",
       "    </tr>\n",
       "    <tr>\n",
       "      <th>MSZoning</th>\n",
       "      <td>MSZoning</td>\n",
       "      <td>object</td>\n",
       "      <td>['RL', 'RL', 'RL', 'RL', 'RL']</td>\n",
       "      <td>0.00</td>\n",
       "    </tr>\n",
       "    <tr>\n",
       "      <th>LotFrontage</th>\n",
       "      <td>LotFrontage</td>\n",
       "      <td>float64</td>\n",
       "      <td>[65.0, 80.0, 68.0, 60.0, 84.0]</td>\n",
       "      <td>17.74</td>\n",
       "    </tr>\n",
       "    <tr>\n",
       "      <th>LotArea</th>\n",
       "      <td>LotArea</td>\n",
       "      <td>int64</td>\n",
       "      <td>[8450, 9600, 11250, 9550, 14260]</td>\n",
       "      <td>0.00</td>\n",
       "    </tr>\n",
       "    <tr>\n",
       "      <th>...</th>\n",
       "      <td>...</td>\n",
       "      <td>...</td>\n",
       "      <td>...</td>\n",
       "      <td>...</td>\n",
       "    </tr>\n",
       "    <tr>\n",
       "      <th>MoSold</th>\n",
       "      <td>MoSold</td>\n",
       "      <td>int64</td>\n",
       "      <td>[2, 5, 9, 2, 12]</td>\n",
       "      <td>0.00</td>\n",
       "    </tr>\n",
       "    <tr>\n",
       "      <th>YrSold</th>\n",
       "      <td>YrSold</td>\n",
       "      <td>int64</td>\n",
       "      <td>[2008, 2007, 2008, 2006, 2008]</td>\n",
       "      <td>0.00</td>\n",
       "    </tr>\n",
       "    <tr>\n",
       "      <th>SaleType</th>\n",
       "      <td>SaleType</td>\n",
       "      <td>object</td>\n",
       "      <td>['WD', 'WD', 'WD', 'WD', 'WD']</td>\n",
       "      <td>0.00</td>\n",
       "    </tr>\n",
       "    <tr>\n",
       "      <th>SaleCondition</th>\n",
       "      <td>SaleCondition</td>\n",
       "      <td>object</td>\n",
       "      <td>['Normal', 'Normal', 'Normal', 'Abnorml', 'Nor...</td>\n",
       "      <td>0.00</td>\n",
       "    </tr>\n",
       "    <tr>\n",
       "      <th>SalePrice</th>\n",
       "      <td>SalePrice</td>\n",
       "      <td>int64</td>\n",
       "      <td>[208500, 181500, 223500, 140000, 250000]</td>\n",
       "      <td>0.00</td>\n",
       "    </tr>\n",
       "  </tbody>\n",
       "</table>\n",
       "<p>81 rows × 4 columns</p>\n",
       "</div>"
      ],
      "text/plain": [
       "                     colonne     type  \\\n",
       "Id                        Id    int64   \n",
       "MSSubClass        MSSubClass    int64   \n",
       "MSZoning            MSZoning   object   \n",
       "LotFrontage      LotFrontage  float64   \n",
       "LotArea              LotArea    int64   \n",
       "...                      ...      ...   \n",
       "MoSold                MoSold    int64   \n",
       "YrSold                YrSold    int64   \n",
       "SaleType            SaleType   object   \n",
       "SaleCondition  SaleCondition   object   \n",
       "SalePrice          SalePrice    int64   \n",
       "\n",
       "                                                     Echantillon  \\\n",
       "Id                                               [1, 2, 3, 4, 5]   \n",
       "MSSubClass                                  [60, 20, 60, 70, 60]   \n",
       "MSZoning                          ['RL', 'RL', 'RL', 'RL', 'RL']   \n",
       "LotFrontage                       [65.0, 80.0, 68.0, 60.0, 84.0]   \n",
       "LotArea                         [8450, 9600, 11250, 9550, 14260]   \n",
       "...                                                          ...   \n",
       "MoSold                                          [2, 5, 9, 2, 12]   \n",
       "YrSold                            [2008, 2007, 2008, 2006, 2008]   \n",
       "SaleType                          ['WD', 'WD', 'WD', 'WD', 'WD']   \n",
       "SaleCondition  ['Normal', 'Normal', 'Normal', 'Abnorml', 'Nor...   \n",
       "SalePrice               [208500, 181500, 223500, 140000, 250000]   \n",
       "\n",
       "               % de valeurs nulles  \n",
       "Id                            0.00  \n",
       "MSSubClass                    0.00  \n",
       "MSZoning                      0.00  \n",
       "LotFrontage                  17.74  \n",
       "LotArea                       0.00  \n",
       "...                            ...  \n",
       "MoSold                        0.00  \n",
       "YrSold                        0.00  \n",
       "SaleType                      0.00  \n",
       "SaleCondition                 0.00  \n",
       "SalePrice                     0.00  \n",
       "\n",
       "[81 rows x 4 columns]"
      ]
     },
     "metadata": {},
     "output_type": "display_data"
    }
   ],
   "source": [
    "data.df_info()"
   ]
  },
  {
   "cell_type": "code",
   "execution_count": 4,
   "metadata": {
    "ExecuteTime": {
     "end_time": "2021-05-20T16:00:11.973107Z",
     "start_time": "2021-05-20T16:00:10.780885Z"
    }
   },
   "outputs": [
    {
     "name": "stdout",
     "output_type": "stream",
     "text": [
      "Analyse de la feature SalePrice\n"
     ]
    },
    {
     "data": {
      "text/plain": [
       "count      1460.000000\n",
       "mean     180921.195890\n",
       "std       79442.502883\n",
       "min       34900.000000\n",
       "25%      129975.000000\n",
       "50%      163000.000000\n",
       "75%      214000.000000\n",
       "max      755000.000000\n",
       "Name: SalePrice, dtype: float64"
      ]
     },
     "metadata": {},
     "output_type": "display_data"
    },
    {
     "data": {
      "image/png": "[encoded data removed]",
      "text/plain": [
       "<Figure size 864x576 with 1 Axes>"
      ]
     },
     "metadata": {
      "needs_background": "light"
     },
     "output_type": "display_data"
    }
   ],
   "source": [
    "data.f_look('SalePrice')"
   ]
  },
  {
   "cell_type": "markdown",
   "metadata": {},
   "source": [
    "> La variable a une moyenne de 180921 avec une médiane de 163000, et un écart-type de 79442.5\n",
    "> On peut en dire que la médiane et la moyenne sont différentes, et donc que SalePrice n'est pas exactement distribuée selon la loi normale car elle présente de nombreuses valeurs extrêmes et par conséquent un skewness sur la droite.\n",
    "> On peut aussi dire que plus de 50% (médiane) des biens vendus sont situés sous la moyenne."
   ]
  },
  {
   "cell_type": "code",
   "execution_count": 5,
   "metadata": {
    "ExecuteTime": {
     "end_time": "2021-05-20T16:00:13.291716Z",
     "start_time": "2021-05-20T16:00:12.004878Z"
    }
   },
   "outputs": [
    {
     "data": {
      "image/png": "[encoded data removed]",
      "text/plain": [
       "<Figure size 864x576 with 1 Axes>"
      ]
     },
     "metadata": {
      "needs_background": "light"
     },
     "output_type": "display_data"
    }
   ],
   "source": [
    "data.df_corr('SalePrice')"
   ]
  },
  {
   "cell_type": "code",
   "execution_count": 6,
   "metadata": {
    "ExecuteTime": {
     "end_time": "2021-05-20T16:00:14.508709Z",
     "start_time": "2021-05-20T16:00:13.393642Z"
    }
   },
   "outputs": [
    {
     "data": {
      "image/png": "[encoded data removed]",
      "text/plain": [
       "<Figure size 720x360 with 1 Axes>"
      ]
     },
     "metadata": {
      "needs_background": "light"
     },
     "output_type": "display_data"
    }
   ],
   "source": [
    "data.kompare('GrLivArea','SalePrice')"
   ]
  },
  {
   "cell_type": "code",
   "execution_count": 7,
   "metadata": {
    "ExecuteTime": {
     "end_time": "2021-05-20T16:00:15.434705Z",
     "start_time": "2021-05-20T16:00:14.549506Z"
    }
   },
   "outputs": [
    {
     "name": "stdout",
     "output_type": "stream",
     "text": [
      "Analyse de la feature GrLivArea\n"
     ]
    },
    {
     "data": {
      "text/plain": [
       "count    1460.000000\n",
       "mean     1515.463699\n",
       "std       525.480383\n",
       "min       334.000000\n",
       "25%      1129.500000\n",
       "50%      1464.000000\n",
       "75%      1776.750000\n",
       "max      5642.000000\n",
       "Name: GrLivArea, dtype: float64"
      ]
     },
     "metadata": {},
     "output_type": "display_data"
    },
    {
     "data": {
      "image/png": "[encoded data removed]",
      "text/plain": [
       "<Figure size 864x576 with 1 Axes>"
      ]
     },
     "metadata": {
      "needs_background": "light"
     },
     "output_type": "display_data"
    }
   ],
   "source": [
    "data.f_look('GrLivArea')"
   ]
  },
  {
   "cell_type": "code",
   "execution_count": 8,
   "metadata": {
    "ExecuteTime": {
     "end_time": "2021-05-20T16:00:15.495589Z",
     "start_time": "2021-05-20T16:00:15.451364Z"
    }
   },
   "outputs": [],
   "source": [
    "model = Model(data.df,'SalePrice',['GrLivArea'])"
   ]
  },
  {
   "cell_type": "code",
   "execution_count": 9,
   "metadata": {
    "ExecuteTime": {
     "end_time": "2021-05-20T16:00:15.680601Z",
     "start_time": "2021-05-20T16:00:15.533310Z"
    }
   },
   "outputs": [
    {
     "data": {
      "text/html": [
       "<table class=\"simpletable\">\n",
       "<caption>OLS Regression Results</caption>\n",
       "<tr>\n",
       "  <th>Dep. Variable:</th>        <td>SalePrice</td>    <th>  R-squared:         </th> <td>   0.502</td> \n",
       "</tr>\n",
       "<tr>\n",
       "  <th>Model:</th>                   <td>OLS</td>       <th>  Adj. R-squared:    </th> <td>   0.502</td> \n",
       "</tr>\n",
       "<tr>\n",
       "  <th>Method:</th>             <td>Least Squares</td>  <th>  F-statistic:       </th> <td>   1471.</td> \n",
       "</tr>\n",
       "<tr>\n",
       "  <th>Date:</th>             <td>Thu, 20 May 2021</td> <th>  Prob (F-statistic):</th> <td>4.52e-223</td>\n",
       "</tr>\n",
       "<tr>\n",
       "  <th>Time:</th>                 <td>18:00:15</td>     <th>  Log-Likelihood:    </th> <td> -18035.</td> \n",
       "</tr>\n",
       "<tr>\n",
       "  <th>No. Observations:</th>      <td>  1460</td>      <th>  AIC:               </th> <td>3.607e+04</td>\n",
       "</tr>\n",
       "<tr>\n",
       "  <th>Df Residuals:</th>          <td>  1458</td>      <th>  BIC:               </th> <td>3.608e+04</td>\n",
       "</tr>\n",
       "<tr>\n",
       "  <th>Df Model:</th>              <td>     1</td>      <th>                     </th>     <td> </td>    \n",
       "</tr>\n",
       "<tr>\n",
       "  <th>Covariance Type:</th>      <td>nonrobust</td>    <th>                     </th>     <td> </td>    \n",
       "</tr>\n",
       "</table>\n",
       "<table class=\"simpletable\">\n",
       "<tr>\n",
       "      <td></td>         <th>coef</th>     <th>std err</th>      <th>t</th>      <th>P>|t|</th>  <th>[0.025</th>    <th>0.975]</th>  \n",
       "</tr>\n",
       "<tr>\n",
       "  <th>Intercept</th> <td> 1.857e+04</td> <td> 4480.755</td> <td>    4.144</td> <td> 0.000</td> <td> 9779.612</td> <td> 2.74e+04</td>\n",
       "</tr>\n",
       "<tr>\n",
       "  <th>GrLivArea</th> <td>  107.1304</td> <td>    2.794</td> <td>   38.348</td> <td> 0.000</td> <td>  101.650</td> <td>  112.610</td>\n",
       "</tr>\n",
       "</table>\n",
       "<table class=\"simpletable\">\n",
       "<tr>\n",
       "  <th>Omnibus:</th>       <td>261.166</td> <th>  Durbin-Watson:     </th> <td>   2.025</td>\n",
       "</tr>\n",
       "<tr>\n",
       "  <th>Prob(Omnibus):</th> <td> 0.000</td>  <th>  Jarque-Bera (JB):  </th> <td>3432.287</td>\n",
       "</tr>\n",
       "<tr>\n",
       "  <th>Skew:</th>          <td> 0.410</td>  <th>  Prob(JB):          </th> <td>    0.00</td>\n",
       "</tr>\n",
       "<tr>\n",
       "  <th>Kurtosis:</th>      <td>10.467</td>  <th>  Cond. No.          </th> <td>4.90e+03</td>\n",
       "</tr>\n",
       "</table><br/><br/>Notes:<br/>[1] Standard Errors assume that the covariance matrix of the errors is correctly specified.<br/>[2] The condition number is large, 4.9e+03. This might indicate that there are<br/>strong multicollinearity or other numerical problems."
      ],
      "text/plain": [
       "<class 'statsmodels.iolib.summary.Summary'>\n",
       "\"\"\"\n",
       "                            OLS Regression Results                            \n",
       "==============================================================================\n",
       "Dep. Variable:              SalePrice   R-squared:                       0.502\n",
       "Model:                            OLS   Adj. R-squared:                  0.502\n",
       "Method:                 Least Squares   F-statistic:                     1471.\n",
       "Date:                Thu, 20 May 2021   Prob (F-statistic):          4.52e-223\n",
       "Time:                        18:00:15   Log-Likelihood:                -18035.\n",
       "No. Observations:                1460   AIC:                         3.607e+04\n",
       "Df Residuals:                    1458   BIC:                         3.608e+04\n",
       "Df Model:                           1                                         \n",
       "Covariance Type:            nonrobust                                         \n",
       "==============================================================================\n",
       "                 coef    std err          t      P>|t|      [0.025      0.975]\n",
       "------------------------------------------------------------------------------\n",
       "Intercept   1.857e+04   4480.755      4.144      0.000    9779.612    2.74e+04\n",
       "GrLivArea    107.1304      2.794     38.348      0.000     101.650     112.610\n",
       "==============================================================================\n",
       "Omnibus:                      261.166   Durbin-Watson:                   2.025\n",
       "Prob(Omnibus):                  0.000   Jarque-Bera (JB):             3432.287\n",
       "Skew:                           0.410   Prob(JB):                         0.00\n",
       "Kurtosis:                      10.467   Cond. No.                     4.90e+03\n",
       "==============================================================================\n",
       "\n",
       "Notes:\n",
       "[1] Standard Errors assume that the covariance matrix of the errors is correctly specified.\n",
       "[2] The condition number is large, 4.9e+03. This might indicate that there are\n",
       "strong multicollinearity or other numerical problems.\n",
       "\"\"\""
      ]
     },
     "execution_count": 9,
     "metadata": {},
     "output_type": "execute_result"
    }
   ],
   "source": [
    "model.sm_regression()"
   ]
  },
  {
   "cell_type": "markdown",
   "metadata": {},
   "source": [
    "> On a un R carré de 0,5, ce qui signifie que nos données d'observations ne vont correspondre qu'à 50% des données attendues avec une fonction f(P-value) très proche de 0. donc l'évaluation de la performance du modele est fiable.\n",
    "\n",
    "> La feature a un coefficient de 107 avec une P.value très faible. Donc la valaeur de ce coefficient est fiable."
   ]
  },
  {
   "cell_type": "code",
   "execution_count": 10,
   "metadata": {
    "ExecuteTime": {
     "end_time": "2021-05-20T16:00:15.749553Z",
     "start_time": "2021-05-20T16:00:15.695939Z"
    }
   },
   "outputs": [
    {
     "name": "stdout",
     "output_type": "stream",
     "text": [
      "La constante est égale à : 18569.02585648728\n",
      "Les coefficients directeurs sont respectivement de : [107.13035897]\n",
      "le R² est de : 0.5021486502718042\n"
     ]
    }
   ],
   "source": [
    "model.sk_regression(model.df)"
   ]
  },
  {
   "cell_type": "markdown",
   "metadata": {},
   "source": [
    "> Le modèle nous renvoie la même chose que stats model"
   ]
  },
  {
   "cell_type": "markdown",
   "metadata": {},
   "source": [
    "## Prediction d'un logement de 1710 pieds carré soit 159 m carré"
   ]
  },
  {
   "cell_type": "code",
   "execution_count": 11,
   "metadata": {
    "ExecuteTime": {
     "end_time": "2021-05-20T16:00:15.795237Z",
     "start_time": "2021-05-20T16:00:15.765319Z"
    }
   },
   "outputs": [
    {
     "name": "stdout",
     "output_type": "stream",
     "text": [
      "\n",
      "Valeur attendue = 208500 feet2\n",
      "Prédiction du modèle : 201761.94 feet2\n",
      "soit un écart de  : 3.23 % d'écart\n",
      "\n"
     ]
    }
   ],
   "source": [
    "a = data.df['SalePrice'][data.df['GrLivArea'] == 1710].iloc[0]\n",
    "b = round(model.sk_predict([[1710]])[0],2)\n",
    "\n",
    "print(f\"\"\"\n",
    "Valeur attendue = {a} feet2\n",
    "Prédiction du modèle : {b} feet2\n",
    "soit un écart de  : {round(abs(b-a)/a*100,2)} % d'écart\n",
    "\"\"\")"
   ]
  },
  {
   "cell_type": "code",
   "execution_count": 12,
   "metadata": {
    "ExecuteTime": {
     "end_time": "2021-05-20T16:00:15.891946Z",
     "start_time": "2021-05-20T16:00:15.807820Z"
    }
   },
   "outputs": [
    {
     "data": {
      "text/html": [
       "<div>\n",
       "<style scoped>\n",
       "    .dataframe tbody tr th:only-of-type {\n",
       "        vertical-align: middle;\n",
       "    }\n",
       "\n",
       "    .dataframe tbody tr th {\n",
       "        vertical-align: top;\n",
       "    }\n",
       "\n",
       "    .dataframe thead th {\n",
       "        text-align: right;\n",
       "    }\n",
       "</style>\n",
       "<table border=\"1\" class=\"dataframe\">\n",
       "  <thead>\n",
       "    <tr style=\"text-align: right;\">\n",
       "      <th></th>\n",
       "      <th>SalePrice</th>\n",
       "      <th>GrLivArea</th>\n",
       "    </tr>\n",
       "  </thead>\n",
       "  <tbody>\n",
       "    <tr>\n",
       "      <th>0</th>\n",
       "      <td>208500</td>\n",
       "      <td>1710</td>\n",
       "    </tr>\n",
       "  </tbody>\n",
       "</table>\n",
       "</div>"
      ],
      "text/plain": [
       "   SalePrice  GrLivArea\n",
       "0     208500       1710"
      ]
     },
     "metadata": {},
     "output_type": "display_data"
    },
    {
     "data": {
      "text/html": [
       "<div>\n",
       "<style scoped>\n",
       "    .dataframe tbody tr th:only-of-type {\n",
       "        vertical-align: middle;\n",
       "    }\n",
       "\n",
       "    .dataframe tbody tr th {\n",
       "        vertical-align: top;\n",
       "    }\n",
       "\n",
       "    .dataframe thead th {\n",
       "        text-align: right;\n",
       "    }\n",
       "</style>\n",
       "<table border=\"1\" class=\"dataframe\">\n",
       "  <thead>\n",
       "    <tr style=\"text-align: right;\">\n",
       "      <th></th>\n",
       "      <th>SalePrice</th>\n",
       "      <th>GrLivArea</th>\n",
       "    </tr>\n",
       "  </thead>\n",
       "  <tbody>\n",
       "    <tr>\n",
       "      <th>0</th>\n",
       "      <td>176485</td>\n",
       "      <td>1302</td>\n",
       "    </tr>\n",
       "  </tbody>\n",
       "</table>\n",
       "</div>"
      ],
      "text/plain": [
       "   SalePrice  GrLivArea\n",
       "0     176485       1302"
      ]
     },
     "metadata": {},
     "output_type": "display_data"
    }
   ],
   "source": [
    "model.cut_df()"
   ]
  },
  {
   "cell_type": "code",
   "execution_count": 13,
   "metadata": {
    "ExecuteTime": {
     "end_time": "2021-05-20T16:00:15.956107Z",
     "start_time": "2021-05-20T16:00:15.909798Z"
    }
   },
   "outputs": [
    {
     "data": {
      "text/html": [
       "<div>\n",
       "<style scoped>\n",
       "    .dataframe tbody tr th:only-of-type {\n",
       "        vertical-align: middle;\n",
       "    }\n",
       "\n",
       "    .dataframe tbody tr th {\n",
       "        vertical-align: top;\n",
       "    }\n",
       "\n",
       "    .dataframe thead th {\n",
       "        text-align: right;\n",
       "    }\n",
       "</style>\n",
       "<table border=\"1\" class=\"dataframe\">\n",
       "  <thead>\n",
       "    <tr style=\"text-align: right;\">\n",
       "      <th></th>\n",
       "      <th>SalePrice</th>\n",
       "      <th>GrLivArea</th>\n",
       "    </tr>\n",
       "  </thead>\n",
       "  <tbody>\n",
       "    <tr>\n",
       "      <th>0</th>\n",
       "      <td>176485</td>\n",
       "      <td>1302</td>\n",
       "    </tr>\n",
       "    <tr>\n",
       "      <th>1</th>\n",
       "      <td>142500</td>\n",
       "      <td>1141</td>\n",
       "    </tr>\n",
       "    <tr>\n",
       "      <th>2</th>\n",
       "      <td>176500</td>\n",
       "      <td>1414</td>\n",
       "    </tr>\n",
       "    <tr>\n",
       "      <th>3</th>\n",
       "      <td>155000</td>\n",
       "      <td>1215</td>\n",
       "    </tr>\n",
       "    <tr>\n",
       "      <th>4</th>\n",
       "      <td>103000</td>\n",
       "      <td>1208</td>\n",
       "    </tr>\n",
       "    <tr>\n",
       "      <th>...</th>\n",
       "      <td>...</td>\n",
       "      <td>...</td>\n",
       "    </tr>\n",
       "    <tr>\n",
       "      <th>1163</th>\n",
       "      <td>145000</td>\n",
       "      <td>990</td>\n",
       "    </tr>\n",
       "    <tr>\n",
       "      <th>1164</th>\n",
       "      <td>123000</td>\n",
       "      <td>894</td>\n",
       "    </tr>\n",
       "    <tr>\n",
       "      <th>1165</th>\n",
       "      <td>402000</td>\n",
       "      <td>2448</td>\n",
       "    </tr>\n",
       "    <tr>\n",
       "      <th>1166</th>\n",
       "      <td>110000</td>\n",
       "      <td>1203</td>\n",
       "    </tr>\n",
       "    <tr>\n",
       "      <th>1167</th>\n",
       "      <td>79000</td>\n",
       "      <td>774</td>\n",
       "    </tr>\n",
       "  </tbody>\n",
       "</table>\n",
       "<p>1168 rows × 2 columns</p>\n",
       "</div>"
      ],
      "text/plain": [
       "      SalePrice  GrLivArea\n",
       "0        176485       1302\n",
       "1        142500       1141\n",
       "2        176500       1414\n",
       "3        155000       1215\n",
       "4        103000       1208\n",
       "...         ...        ...\n",
       "1163     145000        990\n",
       "1164     123000        894\n",
       "1165     402000       2448\n",
       "1166     110000       1203\n",
       "1167      79000        774\n",
       "\n",
       "[1168 rows x 2 columns]"
      ]
     },
     "execution_count": 13,
     "metadata": {},
     "output_type": "execute_result"
    }
   ],
   "source": [
    "model.train"
   ]
  },
  {
   "cell_type": "code",
   "execution_count": 14,
   "metadata": {
    "ExecuteTime": {
     "end_time": "2021-05-20T16:00:16.038278Z",
     "start_time": "2021-05-20T16:00:15.973514Z"
    }
   },
   "outputs": [
    {
     "name": "stdout",
     "output_type": "stream",
     "text": [
      "La constante est égale à : 14297.063319022913\n",
      "Les coefficients directeurs sont respectivement de : [109.62650353]\n",
      "le R² est de : 0.5386899495086972\n"
     ]
    }
   ],
   "source": [
    "model.sk_regression(model.train)"
   ]
  },
  {
   "cell_type": "code",
   "execution_count": 15,
   "metadata": {
    "ExecuteTime": {
     "end_time": "2021-05-20T16:00:16.121386Z",
     "start_time": "2021-05-20T16:00:16.048060Z"
    }
   },
   "outputs": [
    {
     "name": "stdout",
     "output_type": "stream",
     "text": [
      "R² = 0.38\n"
     ]
    },
    {
     "data": {
      "text/html": [
       "<div>\n",
       "<style scoped>\n",
       "    .dataframe tbody tr th:only-of-type {\n",
       "        vertical-align: middle;\n",
       "    }\n",
       "\n",
       "    .dataframe tbody tr th {\n",
       "        vertical-align: top;\n",
       "    }\n",
       "\n",
       "    .dataframe thead th {\n",
       "        text-align: right;\n",
       "    }\n",
       "</style>\n",
       "<table border=\"1\" class=\"dataframe\">\n",
       "  <thead>\n",
       "    <tr style=\"text-align: right;\">\n",
       "      <th></th>\n",
       "      <th>Valeur Attendu</th>\n",
       "      <th>Prédiction</th>\n",
       "    </tr>\n",
       "  </thead>\n",
       "  <tbody>\n",
       "    <tr>\n",
       "      <th>1168</th>\n",
       "      <td>119900</td>\n",
       "      <td>120086.639224</td>\n",
       "    </tr>\n",
       "    <tr>\n",
       "      <th>1169</th>\n",
       "      <td>151500</td>\n",
       "      <td>119319.253699</td>\n",
       "    </tr>\n",
       "    <tr>\n",
       "      <th>1170</th>\n",
       "      <td>80000</td>\n",
       "      <td>124581.325869</td>\n",
       "    </tr>\n",
       "    <tr>\n",
       "      <th>1171</th>\n",
       "      <td>193879</td>\n",
       "      <td>156153.758885</td>\n",
       "    </tr>\n",
       "    <tr>\n",
       "      <th>1172</th>\n",
       "      <td>196500</td>\n",
       "      <td>202196.890367</td>\n",
       "    </tr>\n",
       "    <tr>\n",
       "      <th>...</th>\n",
       "      <td>...</td>\n",
       "      <td>...</td>\n",
       "    </tr>\n",
       "    <tr>\n",
       "      <th>1455</th>\n",
       "      <td>306000</td>\n",
       "      <td>201100.625332</td>\n",
       "    </tr>\n",
       "    <tr>\n",
       "      <th>1456</th>\n",
       "      <td>82500</td>\n",
       "      <td>168980.059798</td>\n",
       "    </tr>\n",
       "    <tr>\n",
       "      <th>1457</th>\n",
       "      <td>236500</td>\n",
       "      <td>191453.493021</td>\n",
       "    </tr>\n",
       "    <tr>\n",
       "      <th>1458</th>\n",
       "      <td>179900</td>\n",
       "      <td>172378.481407</td>\n",
       "    </tr>\n",
       "    <tr>\n",
       "      <th>1459</th>\n",
       "      <td>187000</td>\n",
       "      <td>201758.384353</td>\n",
       "    </tr>\n",
       "  </tbody>\n",
       "</table>\n",
       "<p>292 rows × 2 columns</p>\n",
       "</div>"
      ],
      "text/plain": [
       "      Valeur Attendu     Prédiction\n",
       "1168          119900  120086.639224\n",
       "1169          151500  119319.253699\n",
       "1170           80000  124581.325869\n",
       "1171          193879  156153.758885\n",
       "1172          196500  202196.890367\n",
       "...              ...            ...\n",
       "1455          306000  201100.625332\n",
       "1456           82500  168980.059798\n",
       "1457          236500  191453.493021\n",
       "1458          179900  172378.481407\n",
       "1459          187000  201758.384353\n",
       "\n",
       "[292 rows x 2 columns]"
      ]
     },
     "execution_count": 15,
     "metadata": {},
     "output_type": "execute_result"
    }
   ],
   "source": [
    "model.sk_predict_test(model.test)"
   ]
  },
  {
   "cell_type": "code",
   "execution_count": 16,
   "metadata": {
    "ExecuteTime": {
     "end_time": "2021-05-20T16:00:16.150421Z",
     "start_time": "2021-05-20T16:00:16.130551Z"
    }
   },
   "outputs": [],
   "source": [
    "model2 = Model(data.df,'SalePrice',['GrLivArea','OverallQual'])"
   ]
  },
  {
   "cell_type": "code",
   "execution_count": 17,
   "metadata": {
    "ExecuteTime": {
     "end_time": "2021-05-20T16:00:16.213706Z",
     "start_time": "2021-05-20T16:00:16.169547Z"
    }
   },
   "outputs": [
    {
     "data": {
      "text/html": [
       "<div>\n",
       "<style scoped>\n",
       "    .dataframe tbody tr th:only-of-type {\n",
       "        vertical-align: middle;\n",
       "    }\n",
       "\n",
       "    .dataframe tbody tr th {\n",
       "        vertical-align: top;\n",
       "    }\n",
       "\n",
       "    .dataframe thead th {\n",
       "        text-align: right;\n",
       "    }\n",
       "</style>\n",
       "<table border=\"1\" class=\"dataframe\">\n",
       "  <thead>\n",
       "    <tr style=\"text-align: right;\">\n",
       "      <th></th>\n",
       "      <th>SalePrice</th>\n",
       "      <th>GrLivArea</th>\n",
       "      <th>OverallQual</th>\n",
       "    </tr>\n",
       "  </thead>\n",
       "  <tbody>\n",
       "    <tr>\n",
       "      <th>0</th>\n",
       "      <td>208500</td>\n",
       "      <td>1710</td>\n",
       "      <td>7</td>\n",
       "    </tr>\n",
       "  </tbody>\n",
       "</table>\n",
       "</div>"
      ],
      "text/plain": [
       "   SalePrice  GrLivArea  OverallQual\n",
       "0     208500       1710            7"
      ]
     },
     "metadata": {},
     "output_type": "display_data"
    },
    {
     "data": {
      "text/html": [
       "<div>\n",
       "<style scoped>\n",
       "    .dataframe tbody tr th:only-of-type {\n",
       "        vertical-align: middle;\n",
       "    }\n",
       "\n",
       "    .dataframe tbody tr th {\n",
       "        vertical-align: top;\n",
       "    }\n",
       "\n",
       "    .dataframe thead th {\n",
       "        text-align: right;\n",
       "    }\n",
       "</style>\n",
       "<table border=\"1\" class=\"dataframe\">\n",
       "  <thead>\n",
       "    <tr style=\"text-align: right;\">\n",
       "      <th></th>\n",
       "      <th>SalePrice</th>\n",
       "      <th>GrLivArea</th>\n",
       "      <th>OverallQual</th>\n",
       "    </tr>\n",
       "  </thead>\n",
       "  <tbody>\n",
       "    <tr>\n",
       "      <th>0</th>\n",
       "      <td>124500</td>\n",
       "      <td>864</td>\n",
       "      <td>4</td>\n",
       "    </tr>\n",
       "  </tbody>\n",
       "</table>\n",
       "</div>"
      ],
      "text/plain": [
       "   SalePrice  GrLivArea  OverallQual\n",
       "0     124500        864            4"
      ]
     },
     "metadata": {},
     "output_type": "display_data"
    }
   ],
   "source": [
    "model2.cut_df()"
   ]
  },
  {
   "cell_type": "code",
   "execution_count": 18,
   "metadata": {
    "ExecuteTime": {
     "end_time": "2021-05-20T16:00:16.311732Z",
     "start_time": "2021-05-20T16:00:16.229258Z"
    }
   },
   "outputs": [
    {
     "name": "stdout",
     "output_type": "stream",
     "text": [
      "La constante est égale à : -104147.54206486681\n",
      "Les coefficients directeurs sont respectivement de : [   55.36730805 32873.23350844]\n",
      "le R² est de : 0.7154159499010337\n"
     ]
    }
   ],
   "source": [
    "model2.sk_regression(model2.train)"
   ]
  },
  {
   "cell_type": "code",
   "execution_count": 19,
   "metadata": {
    "ExecuteTime": {
     "end_time": "2021-05-20T16:00:16.453294Z",
     "start_time": "2021-05-20T16:00:16.329022Z"
    }
   },
   "outputs": [
    {
     "name": "stdout",
     "output_type": "stream",
     "text": [
      "R² = 0.71\n"
     ]
    },
    {
     "data": {
      "text/html": [
       "<div>\n",
       "<style scoped>\n",
       "    .dataframe tbody tr th:only-of-type {\n",
       "        vertical-align: middle;\n",
       "    }\n",
       "\n",
       "    .dataframe tbody tr th {\n",
       "        vertical-align: top;\n",
       "    }\n",
       "\n",
       "    .dataframe thead th {\n",
       "        text-align: right;\n",
       "    }\n",
       "</style>\n",
       "<table border=\"1\" class=\"dataframe\">\n",
       "  <thead>\n",
       "    <tr style=\"text-align: right;\">\n",
       "      <th></th>\n",
       "      <th>Valeur Attendu</th>\n",
       "      <th>Prédiction</th>\n",
       "    </tr>\n",
       "  </thead>\n",
       "  <tbody>\n",
       "    <tr>\n",
       "      <th>1168</th>\n",
       "      <td>200500</td>\n",
       "      <td>231082.138130</td>\n",
       "    </tr>\n",
       "    <tr>\n",
       "      <th>1169</th>\n",
       "      <td>115000</td>\n",
       "      <td>117136.218156</td>\n",
       "    </tr>\n",
       "    <tr>\n",
       "      <th>1170</th>\n",
       "      <td>139400</td>\n",
       "      <td>118686.502782</td>\n",
       "    </tr>\n",
       "    <tr>\n",
       "      <th>1171</th>\n",
       "      <td>114504</td>\n",
       "      <td>168834.336403</td>\n",
       "    </tr>\n",
       "    <tr>\n",
       "      <th>1172</th>\n",
       "      <td>236000</td>\n",
       "      <td>233875.975890</td>\n",
       "    </tr>\n",
       "    <tr>\n",
       "      <th>...</th>\n",
       "      <td>...</td>\n",
       "      <td>...</td>\n",
       "    </tr>\n",
       "    <tr>\n",
       "      <th>1455</th>\n",
       "      <td>147000</td>\n",
       "      <td>110713.610422</td>\n",
       "    </tr>\n",
       "    <tr>\n",
       "      <th>1456</th>\n",
       "      <td>200000</td>\n",
       "      <td>218609.546343</td>\n",
       "    </tr>\n",
       "    <tr>\n",
       "      <th>1457</th>\n",
       "      <td>175000</td>\n",
       "      <td>206026.219939</td>\n",
       "    </tr>\n",
       "    <tr>\n",
       "      <th>1458</th>\n",
       "      <td>79000</td>\n",
       "      <td>153774.428612</td>\n",
       "    </tr>\n",
       "    <tr>\n",
       "      <th>1459</th>\n",
       "      <td>225000</td>\n",
       "      <td>241667.818850</td>\n",
       "    </tr>\n",
       "  </tbody>\n",
       "</table>\n",
       "<p>292 rows × 2 columns</p>\n",
       "</div>"
      ],
      "text/plain": [
       "      Valeur Attendu     Prédiction\n",
       "1168          200500  231082.138130\n",
       "1169          115000  117136.218156\n",
       "1170          139400  118686.502782\n",
       "1171          114504  168834.336403\n",
       "1172          236000  233875.975890\n",
       "...              ...            ...\n",
       "1455          147000  110713.610422\n",
       "1456          200000  218609.546343\n",
       "1457          175000  206026.219939\n",
       "1458           79000  153774.428612\n",
       "1459          225000  241667.818850\n",
       "\n",
       "[292 rows x 2 columns]"
      ]
     },
     "execution_count": 19,
     "metadata": {},
     "output_type": "execute_result"
    }
   ],
   "source": [
    "model2.sk_predict_test(model2.test)"
   ]
  }
 ],
 "metadata": {
  "kernelspec": {
   "display_name": "Python 3",
   "language": "python",
   "name": "python3"
  },
  "language_info": {
   "codemirror_mode": {
    "name": "ipython",
    "version": 3
   },
   "file_extension": ".py",
   "mimetype": "text/x-python",
   "name": "python",
   "nbconvert_exporter": "python",
   "pygments_lexer": "ipython3",
   "version": "3.8.5"
  },
  "toc": {
   "base_numbering": 1,
   "nav_menu": {},
   "number_sections": false,
   "sideBar": true,
   "skip_h1_title": false,
   "title_cell": "Table of Contents",
   "title_sidebar": "Contents",
   "toc_cell": false,
   "toc_position": {},
   "toc_section_display": true,
   "toc_window_display": false
  },
  "varInspector": {
   "cols": {
    "lenName": 16,
    "lenType": 16,
    "lenVar": 40
   },
   "kernels_config": {
    "python": {
     "delete_cmd_postfix": "",
     "delete_cmd_prefix": "del ",
     "library": "var_list.py",
     "varRefreshCmd": "print(var_dic_list())"
    },
    "r": {
     "delete_cmd_postfix": ") ",
     "delete_cmd_prefix": "rm(",
     "library": "var_list.r",
     "varRefreshCmd": "cat(var_dic_list()) "
    }
   },
   "types_to_exclude": [
    "module",
    "function",
    "builtin_function_or_method",
    "instance",
    "_Feature"
   ],
   "window_display": false
  }
 },
 "nbformat": 4,
 "nbformat_minor": 4
}
